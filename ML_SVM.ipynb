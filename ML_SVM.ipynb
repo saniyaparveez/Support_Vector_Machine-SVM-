{
 "cells": [
  {
   "cell_type": "markdown",
   "metadata": {},
   "source": [
    "### Problem :To find if the bank currency is authentic or not"
   ]
  },
  {
   "cell_type": "code",
   "execution_count": 2,
   "metadata": {},
   "outputs": [],
   "source": [
    "import pandas as pd\n",
    "import numpy as np \n",
    "import matplotlib.pyplot as plt\n",
    "%matplotlib inline"
   ]
  },
  {
   "cell_type": "code",
   "execution_count": 3,
   "metadata": {},
   "outputs": [
    {
     "data": {
      "text/html": [
       "<div>\n",
       "<style scoped>\n",
       "    .dataframe tbody tr th:only-of-type {\n",
       "        vertical-align: middle;\n",
       "    }\n",
       "\n",
       "    .dataframe tbody tr th {\n",
       "        vertical-align: top;\n",
       "    }\n",
       "\n",
       "    .dataframe thead th {\n",
       "        text-align: right;\n",
       "    }\n",
       "</style>\n",
       "<table border=\"1\" class=\"dataframe\">\n",
       "  <thead>\n",
       "    <tr style=\"text-align: right;\">\n",
       "      <th></th>\n",
       "      <th>Variance</th>\n",
       "      <th>Skewness</th>\n",
       "      <th>Curtosis</th>\n",
       "      <th>Entropy</th>\n",
       "      <th>Class</th>\n",
       "    </tr>\n",
       "  </thead>\n",
       "  <tbody>\n",
       "    <tr>\n",
       "      <th>0</th>\n",
       "      <td>3.62160</td>\n",
       "      <td>8.6661</td>\n",
       "      <td>-2.8073</td>\n",
       "      <td>-0.44699</td>\n",
       "      <td>0</td>\n",
       "    </tr>\n",
       "    <tr>\n",
       "      <th>1</th>\n",
       "      <td>4.54590</td>\n",
       "      <td>8.1674</td>\n",
       "      <td>-2.4586</td>\n",
       "      <td>-1.46210</td>\n",
       "      <td>0</td>\n",
       "    </tr>\n",
       "    <tr>\n",
       "      <th>2</th>\n",
       "      <td>3.86600</td>\n",
       "      <td>-2.6383</td>\n",
       "      <td>1.9242</td>\n",
       "      <td>0.10645</td>\n",
       "      <td>0</td>\n",
       "    </tr>\n",
       "    <tr>\n",
       "      <th>3</th>\n",
       "      <td>3.45660</td>\n",
       "      <td>9.5228</td>\n",
       "      <td>-4.0112</td>\n",
       "      <td>-3.59440</td>\n",
       "      <td>0</td>\n",
       "    </tr>\n",
       "    <tr>\n",
       "      <th>4</th>\n",
       "      <td>0.32924</td>\n",
       "      <td>-4.4552</td>\n",
       "      <td>4.5718</td>\n",
       "      <td>-0.98880</td>\n",
       "      <td>0</td>\n",
       "    </tr>\n",
       "  </tbody>\n",
       "</table>\n",
       "</div>"
      ],
      "text/plain": [
       "   Variance  Skewness  Curtosis  Entropy  Class\n",
       "0   3.62160    8.6661   -2.8073 -0.44699      0\n",
       "1   4.54590    8.1674   -2.4586 -1.46210      0\n",
       "2   3.86600   -2.6383    1.9242  0.10645      0\n",
       "3   3.45660    9.5228   -4.0112 -3.59440      0\n",
       "4   0.32924   -4.4552    4.5718 -0.98880      0"
      ]
     },
     "execution_count": 3,
     "metadata": {},
     "output_type": "execute_result"
    }
   ],
   "source": [
    "bankdata = pd.read_csv('C:/Users/Saniya Parveez/Desktop/Datasets-20190723T084832Z-001/Datasets/bill_authentication.csv')\n",
    "bankdata.head()"
   ]
  },
  {
   "cell_type": "code",
   "execution_count": 4,
   "metadata": {},
   "outputs": [
    {
     "data": {
      "text/plain": [
       "(1372, 5)"
      ]
     },
     "execution_count": 4,
     "metadata": {},
     "output_type": "execute_result"
    }
   ],
   "source": [
    "bankdata.shape"
   ]
  },
  {
   "cell_type": "code",
   "execution_count": 5,
   "metadata": {},
   "outputs": [],
   "source": [
    "X = bankdata.drop('Class',axis = 1) #independent variable\n",
    "y = bankdata['Class'] #dependent variable"
   ]
  },
  {
   "cell_type": "code",
   "execution_count": 6,
   "metadata": {},
   "outputs": [
    {
     "data": {
      "text/html": [
       "<div>\n",
       "<style scoped>\n",
       "    .dataframe tbody tr th:only-of-type {\n",
       "        vertical-align: middle;\n",
       "    }\n",
       "\n",
       "    .dataframe tbody tr th {\n",
       "        vertical-align: top;\n",
       "    }\n",
       "\n",
       "    .dataframe thead th {\n",
       "        text-align: right;\n",
       "    }\n",
       "</style>\n",
       "<table border=\"1\" class=\"dataframe\">\n",
       "  <thead>\n",
       "    <tr style=\"text-align: right;\">\n",
       "      <th></th>\n",
       "      <th>Variance</th>\n",
       "      <th>Skewness</th>\n",
       "      <th>Curtosis</th>\n",
       "      <th>Entropy</th>\n",
       "      <th>Class</th>\n",
       "    </tr>\n",
       "  </thead>\n",
       "  <tbody>\n",
       "    <tr>\n",
       "      <th>count</th>\n",
       "      <td>1372.000000</td>\n",
       "      <td>1372.000000</td>\n",
       "      <td>1372.000000</td>\n",
       "      <td>1372.000000</td>\n",
       "      <td>1372.000000</td>\n",
       "    </tr>\n",
       "    <tr>\n",
       "      <th>mean</th>\n",
       "      <td>0.433735</td>\n",
       "      <td>1.922353</td>\n",
       "      <td>1.397627</td>\n",
       "      <td>-1.191657</td>\n",
       "      <td>0.444606</td>\n",
       "    </tr>\n",
       "    <tr>\n",
       "      <th>std</th>\n",
       "      <td>2.842763</td>\n",
       "      <td>5.869047</td>\n",
       "      <td>4.310030</td>\n",
       "      <td>2.101013</td>\n",
       "      <td>0.497103</td>\n",
       "    </tr>\n",
       "    <tr>\n",
       "      <th>min</th>\n",
       "      <td>-7.042100</td>\n",
       "      <td>-13.773100</td>\n",
       "      <td>-5.286100</td>\n",
       "      <td>-8.548200</td>\n",
       "      <td>0.000000</td>\n",
       "    </tr>\n",
       "    <tr>\n",
       "      <th>25%</th>\n",
       "      <td>-1.773000</td>\n",
       "      <td>-1.708200</td>\n",
       "      <td>-1.574975</td>\n",
       "      <td>-2.413450</td>\n",
       "      <td>0.000000</td>\n",
       "    </tr>\n",
       "    <tr>\n",
       "      <th>50%</th>\n",
       "      <td>0.496180</td>\n",
       "      <td>2.319650</td>\n",
       "      <td>0.616630</td>\n",
       "      <td>-0.586650</td>\n",
       "      <td>0.000000</td>\n",
       "    </tr>\n",
       "    <tr>\n",
       "      <th>75%</th>\n",
       "      <td>2.821475</td>\n",
       "      <td>6.814625</td>\n",
       "      <td>3.179250</td>\n",
       "      <td>0.394810</td>\n",
       "      <td>1.000000</td>\n",
       "    </tr>\n",
       "    <tr>\n",
       "      <th>max</th>\n",
       "      <td>6.824800</td>\n",
       "      <td>12.951600</td>\n",
       "      <td>17.927400</td>\n",
       "      <td>2.449500</td>\n",
       "      <td>1.000000</td>\n",
       "    </tr>\n",
       "  </tbody>\n",
       "</table>\n",
       "</div>"
      ],
      "text/plain": [
       "          Variance     Skewness     Curtosis      Entropy        Class\n",
       "count  1372.000000  1372.000000  1372.000000  1372.000000  1372.000000\n",
       "mean      0.433735     1.922353     1.397627    -1.191657     0.444606\n",
       "std       2.842763     5.869047     4.310030     2.101013     0.497103\n",
       "min      -7.042100   -13.773100    -5.286100    -8.548200     0.000000\n",
       "25%      -1.773000    -1.708200    -1.574975    -2.413450     0.000000\n",
       "50%       0.496180     2.319650     0.616630    -0.586650     0.000000\n",
       "75%       2.821475     6.814625     3.179250     0.394810     1.000000\n",
       "max       6.824800    12.951600    17.927400     2.449500     1.000000"
      ]
     },
     "execution_count": 6,
     "metadata": {},
     "output_type": "execute_result"
    }
   ],
   "source": [
    "bankdata.describe()"
   ]
  },
  {
   "cell_type": "code",
   "execution_count": 7,
   "metadata": {},
   "outputs": [
    {
     "data": {
      "text/plain": [
       "Class\n",
       "0    [[AxesSubplot(0.125,0.551739;0.336957x0.328261...\n",
       "1    [[AxesSubplot(0.125,0.551739;0.336957x0.328261...\n",
       "dtype: object"
      ]
     },
     "execution_count": 7,
     "metadata": {},
     "output_type": "execute_result"
    },
    {
     "data": {
      "image/png": "[encoded data removed]",
      "text/plain": [
       "<Figure size 432x288 with 4 Axes>"
      ]
     },
     "metadata": {
      "needs_background": "light"
     },
     "output_type": "display_data"
    },
    {
     "data": {
      "image/png": "[encoded data removed]",
      "text/plain": [
       "<Figure size 432x288 with 4 Axes>"
      ]
     },
     "metadata": {
      "needs_background": "light"
     },
     "output_type": "display_data"
    }
   ],
   "source": [
    "bankdata.groupby('Class').hist() #using histogram  to visualize"
   ]
  },
  {
   "cell_type": "code",
   "execution_count": 8,
   "metadata": {},
   "outputs": [
    {
     "name": "stdout",
     "output_type": "stream",
     "text": [
      "<class 'pandas.core.frame.DataFrame'>\n",
      "RangeIndex: 1372 entries, 0 to 1371\n",
      "Data columns (total 5 columns):\n",
      "Variance    1372 non-null float64\n",
      "Skewness    1372 non-null float64\n",
      "Curtosis    1372 non-null float64\n",
      "Entropy     1372 non-null float64\n",
      "Class       1372 non-null int64\n",
      "dtypes: float64(4), int64(1)\n",
      "memory usage: 53.7 KB\n"
     ]
    }
   ],
   "source": [
    "bankdata.info()"
   ]
  },
  {
   "cell_type": "code",
   "execution_count": 9,
   "metadata": {},
   "outputs": [],
   "source": [
    "from sklearn.model_selection import train_test_split\n",
    "X_train,X_test,y_train,y_test = train_test_split(X,y,test_size = 0.20)"
   ]
  },
  {
   "cell_type": "code",
   "execution_count": 10,
   "metadata": {},
   "outputs": [
    {
     "data": {
      "text/plain": [
       "SVC(C=1.0, cache_size=200, class_weight=None, coef0=0.0,\n",
       "  decision_function_shape='ovr', degree=3, gamma='auto_deprecated',\n",
       "  kernel='linear', max_iter=-1, probability=True, random_state=None,\n",
       "  shrinking=True, tol=0.001, verbose=False)"
      ]
     },
     "execution_count": 10,
     "metadata": {},
     "output_type": "execute_result"
    }
   ],
   "source": [
    "from sklearn.svm import SVC\n",
    "clf = SVC(kernel = 'linear',probability =True)\n",
    "clf.fit(X_train,y_train)"
   ]
  },
  {
   "cell_type": "code",
   "execution_count": 11,
   "metadata": {},
   "outputs": [
    {
     "data": {
      "text/plain": [
       "array([0, 0, 0, 1, 1, 1, 0, 1, 1, 0, 0, 0, 1, 0, 1, 0, 0, 1, 0, 1, 0, 1,\n",
       "       0, 0, 1, 0, 0, 0, 1, 0, 1, 0, 0, 0, 1, 0, 0, 0, 0, 0, 0, 0, 0, 0,\n",
       "       0, 0, 0, 0, 0, 0, 0, 0, 1, 0, 1, 0, 0, 0, 1, 1, 0, 0, 0, 1, 0, 1,\n",
       "       1, 0, 1, 1, 0, 1, 1, 0, 0, 0, 1, 0, 1, 1, 1, 0, 0, 1, 0, 1, 1, 1,\n",
       "       1, 0, 1, 1, 1, 0, 0, 0, 1, 1, 1, 1, 0, 1, 1, 0, 0, 0, 1, 0, 1, 1,\n",
       "       1, 0, 0, 0, 0, 0, 0, 1, 1, 1, 0, 0, 0, 0, 0, 0, 1, 0, 1, 1, 1, 0,\n",
       "       1, 0, 1, 1, 1, 0, 1, 1, 1, 0, 1, 1, 0, 1, 1, 0, 1, 1, 0, 0, 1, 0,\n",
       "       1, 0, 1, 1, 1, 1, 0, 0, 0, 1, 0, 1, 1, 0, 0, 1, 0, 1, 0, 1, 0, 1,\n",
       "       0, 1, 0, 0, 0, 0, 0, 0, 0, 0, 0, 1, 0, 0, 0, 1, 1, 1, 1, 0, 1, 1,\n",
       "       0, 1, 1, 1, 0, 0, 0, 0, 1, 0, 1, 0, 1, 1, 0, 0, 0, 0, 0, 1, 0, 0,\n",
       "       1, 0, 1, 1, 0, 0, 1, 0, 1, 1, 0, 0, 1, 0, 1, 0, 1, 0, 0, 1, 1, 1,\n",
       "       1, 1, 0, 0, 0, 1, 0, 1, 0, 0, 1, 0, 1, 0, 0, 0, 0, 0, 1, 0, 1, 1,\n",
       "       0, 1, 0, 0, 1, 0, 1, 1, 0, 1, 0], dtype=int64)"
      ]
     },
     "execution_count": 11,
     "metadata": {},
     "output_type": "execute_result"
    }
   ],
   "source": [
    "#making predictions\n",
    "y_pred = clf.predict(X_test)\n",
    "y_pred"
   ]
  },
  {
   "cell_type": "code",
   "execution_count": 12,
   "metadata": {},
   "outputs": [
    {
     "data": {
      "text/plain": [
       "36"
      ]
     },
     "execution_count": 12,
     "metadata": {},
     "output_type": "execute_result"
    }
   ],
   "source": [
    "len(clf.support_vectors_) #sv  the ones which are falling on the hyperplane "
   ]
  },
  {
   "cell_type": "code",
   "execution_count": 13,
   "metadata": {},
   "outputs": [
    {
     "data": {
      "text/plain": [
       "array([[ 3.79800e-01,  7.09800e-01,  7.57200e-01, -4.44400e-01],\n",
       "       [ 3.29200e-01, -4.45520e+00,  4.57180e+00, -9.88800e-01],\n",
       "       [ 5.19470e-01, -3.26330e+00,  3.08950e+00, -9.84920e-01],\n",
       "       [-1.85840e+00,  7.88600e+00, -1.66430e+00, -1.83840e+00],\n",
       "       [ 5.70600e-01, -2.48000e-02,  1.24210e+00, -5.62100e-01],\n",
       "       [ 3.29200e-01, -4.45520e+00,  4.57180e+00, -9.88800e-01],\n",
       "       [ 5.19500e-01, -3.26330e+00,  3.08950e+00, -9.84900e-01],\n",
       "       [ 3.79840e-01,  7.09750e-01,  7.57160e-01, -4.44410e-01],\n",
       "       [ 5.19500e-01, -3.26330e+00,  3.08950e+00, -9.84900e-01],\n",
       "       [ 3.29240e-01, -4.45520e+00,  4.57180e+00, -9.88800e-01],\n",
       "       [-1.85840e+00,  7.88600e+00, -1.66430e+00, -1.83840e+00],\n",
       "       [ 5.19500e-01, -3.26330e+00,  3.08950e+00, -9.84900e-01],\n",
       "       [ 3.29200e-01, -4.45520e+00,  4.57180e+00, -9.88800e-01],\n",
       "       [ 3.79800e-01,  7.09800e-01,  7.57200e-01, -4.44400e-01],\n",
       "       [ 5.70600e-01, -2.48000e-02,  1.24210e+00, -5.62100e-01],\n",
       "       [ 5.70600e-01, -2.48000e-02,  1.24210e+00, -5.62100e-01],\n",
       "       [ 3.79800e-01,  7.09800e-01,  7.57200e-01, -4.44400e-01],\n",
       "       [ 5.70600e-01, -2.48410e-02,  1.24210e+00, -5.62080e-01],\n",
       "       [ 2.22790e+00,  4.09510e+00, -4.80370e+00, -2.11120e+00],\n",
       "       [ 2.01770e+00,  1.79820e+00, -2.95810e+00,  2.09900e-01],\n",
       "       [ 1.58100e+00,  8.69090e-01, -2.31380e+00,  8.24120e-01],\n",
       "       [-2.83910e+00, -6.63000e+00,  1.04849e+01, -4.21130e-01],\n",
       "       [ 1.67990e+00,  4.20680e+00, -4.53980e+00, -2.39310e+00],\n",
       "       [-3.23050e+00, -7.21350e+00,  1.16433e+01, -9.46130e-01],\n",
       "       [-3.18750e+00, -7.57560e+00,  1.18678e+01, -5.78890e-01],\n",
       "       [-3.37930e+00, -1.37731e+01,  1.79274e+01, -2.03230e+00],\n",
       "       [-3.75030e+00, -1.34586e+01,  1.75932e+01, -2.77710e+00],\n",
       "       [ 1.59040e+00,  2.21210e+00, -3.11830e+00, -1.17250e-01],\n",
       "       [ 2.03100e+00,  1.85200e+00, -3.01210e+00,  3.00300e-03],\n",
       "       [ 1.56310e+00,  8.95990e-01, -1.97020e+00,  6.54720e-01],\n",
       "       [ 1.73310e+00,  3.95440e+00, -4.74120e+00, -2.50170e+00],\n",
       "       [-3.12730e+00, -7.11210e+00,  1.13897e+01, -8.36340e-02],\n",
       "       [ 2.39170e+00,  4.55650e+00, -4.98880e+00, -2.89870e+00],\n",
       "       [ 1.74250e+00,  3.68330e+00, -4.01290e+00, -1.72070e+00],\n",
       "       [ 1.50770e+00,  1.95960e+00, -3.05840e+00, -1.22430e-01],\n",
       "       [-1.72790e+00, -6.84100e+00,  8.94940e+00,  6.80580e-01]])"
      ]
     },
     "execution_count": 13,
     "metadata": {},
     "output_type": "execute_result"
    }
   ],
   "source": [
    "clf.support_vectors_"
   ]
  },
  {
   "cell_type": "code",
   "execution_count": 14,
   "metadata": {},
   "outputs": [
    {
     "data": {
      "text/plain": [
       "0.9890909090909091"
      ]
     },
     "execution_count": 14,
     "metadata": {},
     "output_type": "execute_result"
    }
   ],
   "source": [
    "clf.score(X_test,y_test)"
   ]
  },
  {
   "cell_type": "code",
   "execution_count": 15,
   "metadata": {},
   "outputs": [
    {
     "name": "stdout",
     "output_type": "stream",
     "text": [
      "[[152   2]\n",
      " [  1 120]]\n",
      "              precision    recall  f1-score   support\n",
      "\n",
      "           0       0.99      0.99      0.99       154\n",
      "           1       0.98      0.99      0.99       121\n",
      "\n",
      "   micro avg       0.99      0.99      0.99       275\n",
      "   macro avg       0.99      0.99      0.99       275\n",
      "weighted avg       0.99      0.99      0.99       275\n",
      "\n"
     ]
    }
   ],
   "source": [
    "from sklearn.metrics import classification_report, confusion_matrix\n",
    "print(confusion_matrix(y_test,y_pred))\n",
    "print(classification_report(y_test,y_pred))"
   ]
  },
  {
   "cell_type": "code",
   "execution_count": 16,
   "metadata": {},
   "outputs": [
    {
     "data": {
      "text/plain": [
       "275"
      ]
     },
     "execution_count": 16,
     "metadata": {},
     "output_type": "execute_result"
    }
   ],
   "source": [
    "len(X_test)"
   ]
  },
  {
   "cell_type": "code",
   "execution_count": 17,
   "metadata": {},
   "outputs": [],
   "source": [
    "from sklearn.metrics import roc_curve\n",
    "from sklearn.metrics import roc_auc_score\n",
    "def plot_roc_curve(fpr,tpr):\n",
    "    plt.plot(fpr,tpr,color = 'orange',label = 'ROC')\n",
    "    plt.plot([0,1],[0,1],color ='darkblue',linestyle='--')\n",
    "    plt.xlabel('False Positive rate')\n",
    "    plt.ylabel('True Positive rate')\n",
    "    plt.title('Receiver operating characteristic(ROC) curve')\n",
    "    plt.legend()\n",
    "    plt.show()"
   ]
  },
  {
   "cell_type": "code",
   "execution_count": 24,
   "metadata": {},
   "outputs": [
    {
     "data": {
      "text/plain": [
       "array([[9.99985395e-01, 1.46053860e-05],\n",
       "       [9.99985902e-01, 1.40979150e-05],\n",
       "       [9.99999632e-01, 3.68268038e-07],\n",
       "       [9.68479627e-08, 9.99999903e-01],\n",
       "       [1.04526824e-08, 9.99999990e-01],\n",
       "       [3.16019439e-03, 9.96839806e-01],\n",
       "       [9.99999077e-01, 9.22646966e-07],\n",
       "       [5.17621805e-03, 9.94823782e-01],\n",
       "       [8.25092464e-10, 9.99999999e-01],\n",
       "       [9.99999817e-01, 1.82650922e-07],\n",
       "       [9.99999900e-01, 1.00000010e-07],\n",
       "       [9.99999900e-01, 1.00000010e-07],\n",
       "       [8.27575107e-06, 9.99991724e-01],\n",
       "       [9.99998805e-01, 1.19518736e-06],\n",
       "       [8.83975028e-07, 9.99999116e-01],\n",
       "       [9.99999500e-01, 5.00174836e-07],\n",
       "       [7.09186703e-01, 2.90813297e-01],\n",
       "       [1.50800176e-06, 9.99998492e-01],\n",
       "       [9.99999900e-01, 1.00000010e-07],\n",
       "       [4.57163214e-10, 1.00000000e+00],\n",
       "       [9.99999900e-01, 1.00000010e-07],\n",
       "       [5.12288326e-11, 1.00000000e+00],\n",
       "       [9.99999900e-01, 1.00000010e-07],\n",
       "       [9.99999900e-01, 1.00000010e-07],\n",
       "       [7.28557872e-08, 9.99999927e-01],\n",
       "       [9.99999900e-01, 1.00000010e-07],\n",
       "       [9.99999900e-01, 1.00000010e-07],\n",
       "       [9.99997773e-01, 2.22713445e-06],\n",
       "       [8.33373390e-06, 9.99991666e-01],\n",
       "       [9.57314138e-01, 4.26858619e-02],\n",
       "       [2.08217262e-02, 9.79178274e-01],\n",
       "       [9.99999900e-01, 1.00000010e-07],\n",
       "       [9.99991210e-01, 8.78980118e-06],\n",
       "       [9.99999709e-01, 2.90561850e-07],\n",
       "       [3.90954856e-09, 9.99999996e-01],\n",
       "       [9.99999900e-01, 1.00000010e-07],\n",
       "       [9.93784101e-01, 6.21589868e-03],\n",
       "       [9.99999900e-01, 1.00000010e-07],\n",
       "       [9.99999900e-01, 1.00000010e-07],\n",
       "       [9.99999900e-01, 1.00000010e-07],\n",
       "       [9.99999900e-01, 1.00000010e-07],\n",
       "       [9.99999900e-01, 1.00000010e-07],\n",
       "       [9.99995075e-01, 4.92451349e-06],\n",
       "       [9.99999058e-01, 9.42168540e-07],\n",
       "       [9.59344859e-01, 4.06551405e-02],\n",
       "       [9.99999897e-01, 1.02538234e-07],\n",
       "       [9.99999900e-01, 1.00000010e-07],\n",
       "       [9.99999900e-01, 1.00000010e-07],\n",
       "       [9.99999900e-01, 1.00000010e-07],\n",
       "       [9.99999900e-01, 1.00000010e-07],\n",
       "       [9.99942908e-01, 5.70915825e-05],\n",
       "       [9.99992187e-01, 7.81323267e-06],\n",
       "       [4.89276988e-02, 9.51072301e-01],\n",
       "       [9.89827697e-01, 1.01723029e-02],\n",
       "       [9.27204695e-09, 9.99999991e-01],\n",
       "       [9.99999631e-01, 3.69464266e-07],\n",
       "       [9.99999900e-01, 1.00000010e-07],\n",
       "       [9.99999263e-01, 7.36916413e-07],\n",
       "       [6.21129230e-09, 9.99999994e-01],\n",
       "       [3.17264978e-06, 9.99996827e-01],\n",
       "       [9.99998503e-01, 1.49676527e-06],\n",
       "       [9.99820841e-01, 1.79159427e-04],\n",
       "       [9.99947234e-01, 5.27659439e-05],\n",
       "       [5.55331718e-03, 9.94446683e-01],\n",
       "       [9.99999421e-01, 5.78955673e-07],\n",
       "       [8.13142807e-02, 9.18685719e-01],\n",
       "       [3.78734120e-01, 6.21265880e-01],\n",
       "       [9.99999900e-01, 1.00000010e-07],\n",
       "       [1.73535768e-07, 9.99999826e-01],\n",
       "       [1.01412903e-02, 9.89858710e-01],\n",
       "       [9.99995994e-01, 4.00612419e-06],\n",
       "       [6.94441314e-03, 9.93055587e-01],\n",
       "       [4.13430282e-08, 9.99999959e-01],\n",
       "       [9.99314757e-01, 6.85242651e-04],\n",
       "       [9.99999900e-01, 1.00000010e-07],\n",
       "       [9.99999900e-01, 1.00000010e-07],\n",
       "       [9.22526588e-09, 9.99999991e-01],\n",
       "       [9.99999390e-01, 6.10339076e-07],\n",
       "       [5.10381262e-08, 9.99999949e-01],\n",
       "       [6.63873772e-03, 9.93361262e-01],\n",
       "       [5.27542178e-07, 9.99999472e-01],\n",
       "       [9.99999900e-01, 1.00000010e-07],\n",
       "       [9.99999900e-01, 1.00000010e-07],\n",
       "       [8.17012043e-06, 9.99991830e-01],\n",
       "       [9.99997898e-01, 2.10248233e-06],\n",
       "       [6.64429317e-12, 1.00000000e+00],\n",
       "       [3.45304532e-03, 9.96546955e-01],\n",
       "       [4.57539905e-03, 9.95424601e-01],\n",
       "       [1.61519600e-02, 9.83848040e-01],\n",
       "       [9.99999541e-01, 4.59092187e-07],\n",
       "       [9.35376607e-06, 9.99990646e-01],\n",
       "       [1.25523244e-09, 9.99999999e-01],\n",
       "       [3.60302774e-07, 9.99999640e-01],\n",
       "       [9.99999900e-01, 1.00000010e-07],\n",
       "       [9.99999900e-01, 1.00000010e-07],\n",
       "       [9.99999900e-01, 1.00000010e-07],\n",
       "       [2.46438366e-02, 9.75356163e-01],\n",
       "       [1.57815102e-08, 9.99999984e-01],\n",
       "       [1.61452170e-06, 9.99998385e-01],\n",
       "       [8.44797802e-06, 9.99991552e-01],\n",
       "       [9.99522021e-01, 4.77978696e-04],\n",
       "       [5.72279182e-03, 9.94277208e-01],\n",
       "       [1.98322300e-10, 1.00000000e+00],\n",
       "       [9.99999802e-01, 1.97740015e-07],\n",
       "       [9.99999900e-01, 1.00000010e-07],\n",
       "       [9.99997762e-01, 2.23800847e-06],\n",
       "       [5.14658219e-06, 9.99994853e-01],\n",
       "       [9.99331968e-01, 6.68032297e-04],\n",
       "       [8.73246367e-02, 9.12675363e-01],\n",
       "       [1.05395447e-09, 9.99999999e-01],\n",
       "       [1.48607122e-06, 9.99998514e-01],\n",
       "       [9.99999513e-01, 4.86792893e-07],\n",
       "       [9.99629639e-01, 3.70360866e-04],\n",
       "       [9.99999349e-01, 6.51213571e-07],\n",
       "       [9.99999900e-01, 1.00000010e-07],\n",
       "       [9.99999076e-01, 9.24239087e-07],\n",
       "       [9.99999900e-01, 1.00000010e-07],\n",
       "       [1.64403718e-01, 8.35596282e-01],\n",
       "       [1.60393086e-05, 9.99983961e-01],\n",
       "       [1.99568747e-01, 8.00431253e-01],\n",
       "       [9.99999887e-01, 1.13278989e-07],\n",
       "       [9.99998738e-01, 1.26237423e-06],\n",
       "       [9.99999852e-01, 1.47960062e-07],\n",
       "       [9.99999891e-01, 1.09309424e-07],\n",
       "       [9.99999900e-01, 1.00000010e-07],\n",
       "       [9.99996511e-01, 3.48923818e-06],\n",
       "       [1.55694480e-05, 9.99984431e-01],\n",
       "       [9.99999599e-01, 4.00990409e-07],\n",
       "       [3.90263834e-03, 9.96097362e-01],\n",
       "       [1.56912858e-01, 8.43087142e-01],\n",
       "       [2.87828200e-01, 7.12171800e-01],\n",
       "       [9.99984274e-01, 1.57260526e-05],\n",
       "       [5.02776037e-02, 9.49722396e-01],\n",
       "       [9.99999900e-01, 1.00000010e-07],\n",
       "       [8.72677789e-07, 9.99999127e-01],\n",
       "       [6.29289364e-08, 9.99999937e-01],\n",
       "       [7.07397116e-07, 9.99999293e-01],\n",
       "       [9.99998027e-01, 1.97338819e-06],\n",
       "       [7.82439331e-07, 9.99999218e-01],\n",
       "       [1.20743999e-01, 8.79256001e-01],\n",
       "       [3.24663061e-01, 6.75336939e-01],\n",
       "       [9.99999561e-01, 4.38750995e-07],\n",
       "       [6.36502962e-11, 1.00000000e+00],\n",
       "       [1.97890309e-11, 1.00000000e+00],\n",
       "       [9.99999900e-01, 1.00000010e-07],\n",
       "       [1.10877843e-08, 9.99999989e-01],\n",
       "       [1.50982936e-07, 9.99999849e-01],\n",
       "       [9.99999674e-01, 3.25833014e-07],\n",
       "       [1.59866662e-01, 8.40133338e-01],\n",
       "       [6.21543491e-03, 9.93784565e-01],\n",
       "       [9.99355657e-01, 6.44342613e-04],\n",
       "       [9.99999900e-01, 1.00000010e-07],\n",
       "       [8.72366678e-09, 9.99999991e-01],\n",
       "       [9.99999900e-01, 1.00000010e-07],\n",
       "       [1.91952021e-02, 9.80804798e-01],\n",
       "       [9.99999900e-01, 1.00000010e-07],\n",
       "       [8.26808727e-07, 9.99999173e-01],\n",
       "       [4.49072176e-06, 9.99995509e-01],\n",
       "       [4.39234572e-06, 9.99995608e-01],\n",
       "       [4.05444651e-08, 9.99999959e-01],\n",
       "       [9.99999900e-01, 1.00000010e-07],\n",
       "       [9.99999900e-01, 1.00000010e-07],\n",
       "       [9.99999788e-01, 2.11916832e-07],\n",
       "       [4.90314953e-12, 1.00000000e+00],\n",
       "       [9.99999900e-01, 1.00000010e-07],\n",
       "       [6.43686416e-09, 9.99999994e-01],\n",
       "       [9.83751867e-07, 9.99999016e-01],\n",
       "       [9.99999681e-01, 3.19191921e-07],\n",
       "       [9.99999646e-01, 3.53629135e-07],\n",
       "       [3.57577570e-09, 9.99999996e-01],\n",
       "       [9.99999356e-01, 6.43802015e-07],\n",
       "       [2.43276373e-06, 9.99997567e-01],\n",
       "       [9.98750517e-01, 1.24948310e-03],\n",
       "       [2.43594146e-07, 9.99999756e-01],\n",
       "       [9.99921081e-01, 7.89186227e-05],\n",
       "       [4.03495500e-03, 9.95965045e-01],\n",
       "       [9.99999848e-01, 1.52023661e-07],\n",
       "       [4.74107170e-03, 9.95258928e-01],\n",
       "       [9.99999708e-01, 2.92020790e-07],\n",
       "       [9.99999821e-01, 1.78685282e-07],\n",
       "       [9.99997785e-01, 2.21494530e-06],\n",
       "       [9.99999581e-01, 4.18573289e-07],\n",
       "       [9.99999752e-01, 2.47561401e-07],\n",
       "       [9.99991812e-01, 8.18767930e-06],\n",
       "       [9.99999872e-01, 1.27658678e-07],\n",
       "       [9.99999313e-01, 6.87294541e-07],\n",
       "       [9.99999900e-01, 1.00000010e-07],\n",
       "       [3.96950536e-10, 1.00000000e+00],\n",
       "       [9.99999120e-01, 8.79567776e-07],\n",
       "       [9.99999900e-01, 1.00000010e-07],\n",
       "       [9.99999900e-01, 1.00000010e-07],\n",
       "       [2.46591955e-08, 9.99999975e-01],\n",
       "       [2.91052854e-07, 9.99999709e-01],\n",
       "       [1.20395096e-05, 9.99987960e-01],\n",
       "       [1.89646033e-02, 9.81035397e-01],\n",
       "       [9.99999409e-01, 5.91471307e-07],\n",
       "       [1.10865120e-06, 9.99998891e-01],\n",
       "       [8.37193201e-03, 9.91628068e-01],\n",
       "       [9.99999900e-01, 1.00000010e-07],\n",
       "       [4.09813680e-03, 9.95901863e-01],\n",
       "       [1.77119809e-06, 9.99998229e-01],\n",
       "       [2.56219449e-03, 9.97437806e-01],\n",
       "       [9.99995093e-01, 4.90653848e-06],\n",
       "       [9.99999897e-01, 1.03063903e-07],\n",
       "       [9.99981298e-01, 1.87023727e-05],\n",
       "       [9.99996337e-01, 3.66277528e-06],\n",
       "       [8.22287316e-07, 9.99999178e-01],\n",
       "       [9.99996817e-01, 3.18325674e-06],\n",
       "       [1.28467924e-06, 9.99998715e-01],\n",
       "       [9.99996074e-01, 3.92596412e-06],\n",
       "       [8.01737089e-06, 9.99991983e-01],\n",
       "       [6.45164619e-03, 9.93548354e-01],\n",
       "       [9.99999900e-01, 1.00000010e-07],\n",
       "       [9.95246981e-01, 4.75301909e-03],\n",
       "       [7.77309600e-01, 2.22690400e-01],\n",
       "       [9.99999900e-01, 1.00000010e-07],\n",
       "       [9.99999900e-01, 1.00000010e-07],\n",
       "       [2.31616083e-07, 9.99999768e-01],\n",
       "       [9.99995502e-01, 4.49841265e-06],\n",
       "       [9.99838971e-01, 1.61029102e-04],\n",
       "       [3.98206464e-01, 6.01793536e-01],\n",
       "       [9.99999342e-01, 6.58218309e-07],\n",
       "       [2.56330614e-03, 9.97436694e-01],\n",
       "       [1.51525954e-05, 9.99984847e-01],\n",
       "       [9.99996569e-01, 3.43110611e-06],\n",
       "       [9.99999900e-01, 1.00000010e-07],\n",
       "       [8.05186795e-08, 9.99999919e-01],\n",
       "       [9.99999900e-01, 1.00000010e-07],\n",
       "       [7.69679244e-03, 9.92303208e-01],\n",
       "       [1.89430094e-01, 8.10569906e-01],\n",
       "       [9.99999884e-01, 1.15666832e-07],\n",
       "       [9.99958687e-01, 4.13130208e-05],\n",
       "       [2.12765955e-01, 7.87234045e-01],\n",
       "       [9.99996413e-01, 3.58680434e-06],\n",
       "       [6.23084675e-06, 9.99993769e-01],\n",
       "       [9.99992880e-01, 7.11988329e-06],\n",
       "       [2.59575676e-07, 9.99999740e-01],\n",
       "       [9.99993921e-01, 6.07891858e-06],\n",
       "       [9.99999900e-01, 1.00000010e-07],\n",
       "       [3.89742874e-07, 9.99999610e-01],\n",
       "       [5.02254359e-02, 9.49774564e-01],\n",
       "       [1.37896031e-01, 8.62103969e-01],\n",
       "       [1.09644901e-07, 9.99999890e-01],\n",
       "       [5.32759569e-11, 1.00000000e+00],\n",
       "       [9.99999900e-01, 1.00000010e-07],\n",
       "       [9.99999900e-01, 1.00000010e-07],\n",
       "       [9.99935141e-01, 6.48591712e-05],\n",
       "       [1.11740050e-02, 9.88825995e-01],\n",
       "       [9.99999656e-01, 3.43652338e-07],\n",
       "       [7.26583324e-07, 9.99999273e-01],\n",
       "       [9.99999701e-01, 2.99012813e-07],\n",
       "       [9.99997202e-01, 2.79773292e-06],\n",
       "       [2.21939582e-07, 9.99999778e-01],\n",
       "       [9.99999900e-01, 1.00000010e-07],\n",
       "       [4.91988126e-03, 9.95080119e-01],\n",
       "       [9.99999881e-01, 1.18777479e-07],\n",
       "       [9.99999900e-01, 1.00000010e-07],\n",
       "       [9.99999699e-01, 3.01461139e-07],\n",
       "       [9.88921337e-01, 1.10786631e-02],\n",
       "       [9.99998322e-01, 1.67846866e-06],\n",
       "       [4.67744675e-02, 9.53225532e-01],\n",
       "       [9.85513622e-01, 1.44863775e-02],\n",
       "       [7.37660561e-08, 9.99999926e-01],\n",
       "       [2.29336259e-09, 9.99999998e-01],\n",
       "       [9.99999900e-01, 1.00000010e-07],\n",
       "       [2.99632368e-09, 9.99999997e-01],\n",
       "       [7.11084264e-01, 2.88915736e-01],\n",
       "       [9.99997948e-01, 2.05208793e-06],\n",
       "       [1.44573993e-02, 9.85542601e-01],\n",
       "       [9.99999900e-01, 1.00000010e-07],\n",
       "       [4.34436632e-09, 9.99999996e-01],\n",
       "       [2.34947869e-01, 7.65052131e-01],\n",
       "       [9.99619828e-01, 3.80172259e-04],\n",
       "       [3.84020965e-03, 9.96159790e-01],\n",
       "       [9.99999900e-01, 1.00000010e-07]])"
      ]
     },
     "execution_count": 24,
     "metadata": {},
     "output_type": "execute_result"
    }
   ],
   "source": [
    "probs=clf.predict_proba(X_test)\n",
    "probs"
   ]
  },
  {
   "cell_type": "code",
   "execution_count": 25,
   "metadata": {},
   "outputs": [
    {
     "data": {
      "text/plain": [
       "array([1.46053860e-05, 1.40979150e-05, 3.68268038e-07, 9.99999903e-01,\n",
       "       9.99999990e-01, 9.96839806e-01, 9.22646966e-07, 9.94823782e-01,\n",
       "       9.99999999e-01, 1.82650922e-07, 1.00000010e-07, 1.00000010e-07,\n",
       "       9.99991724e-01, 1.19518736e-06, 9.99999116e-01, 5.00174836e-07,\n",
       "       2.90813297e-01, 9.99998492e-01, 1.00000010e-07, 1.00000000e+00,\n",
       "       1.00000010e-07, 1.00000000e+00, 1.00000010e-07, 1.00000010e-07,\n",
       "       9.99999927e-01, 1.00000010e-07, 1.00000010e-07, 2.22713445e-06,\n",
       "       9.99991666e-01, 4.26858619e-02, 9.79178274e-01, 1.00000010e-07,\n",
       "       8.78980118e-06, 2.90561850e-07, 9.99999996e-01, 1.00000010e-07,\n",
       "       6.21589868e-03, 1.00000010e-07, 1.00000010e-07, 1.00000010e-07,\n",
       "       1.00000010e-07, 1.00000010e-07, 4.92451349e-06, 9.42168540e-07,\n",
       "       4.06551405e-02, 1.02538234e-07, 1.00000010e-07, 1.00000010e-07,\n",
       "       1.00000010e-07, 1.00000010e-07, 5.70915825e-05, 7.81323267e-06,\n",
       "       9.51072301e-01, 1.01723029e-02, 9.99999991e-01, 3.69464266e-07,\n",
       "       1.00000010e-07, 7.36916413e-07, 9.99999994e-01, 9.99996827e-01,\n",
       "       1.49676527e-06, 1.79159427e-04, 5.27659439e-05, 9.94446683e-01,\n",
       "       5.78955673e-07, 9.18685719e-01, 6.21265880e-01, 1.00000010e-07,\n",
       "       9.99999826e-01, 9.89858710e-01, 4.00612419e-06, 9.93055587e-01,\n",
       "       9.99999959e-01, 6.85242651e-04, 1.00000010e-07, 1.00000010e-07,\n",
       "       9.99999991e-01, 6.10339076e-07, 9.99999949e-01, 9.93361262e-01,\n",
       "       9.99999472e-01, 1.00000010e-07, 1.00000010e-07, 9.99991830e-01,\n",
       "       2.10248233e-06, 1.00000000e+00, 9.96546955e-01, 9.95424601e-01,\n",
       "       9.83848040e-01, 4.59092187e-07, 9.99990646e-01, 9.99999999e-01,\n",
       "       9.99999640e-01, 1.00000010e-07, 1.00000010e-07, 1.00000010e-07,\n",
       "       9.75356163e-01, 9.99999984e-01, 9.99998385e-01, 9.99991552e-01,\n",
       "       4.77978696e-04, 9.94277208e-01, 1.00000000e+00, 1.97740015e-07,\n",
       "       1.00000010e-07, 2.23800847e-06, 9.99994853e-01, 6.68032297e-04,\n",
       "       9.12675363e-01, 9.99999999e-01, 9.99998514e-01, 4.86792893e-07,\n",
       "       3.70360866e-04, 6.51213571e-07, 1.00000010e-07, 9.24239087e-07,\n",
       "       1.00000010e-07, 8.35596282e-01, 9.99983961e-01, 8.00431253e-01,\n",
       "       1.13278989e-07, 1.26237423e-06, 1.47960062e-07, 1.09309424e-07,\n",
       "       1.00000010e-07, 3.48923818e-06, 9.99984431e-01, 4.00990409e-07,\n",
       "       9.96097362e-01, 8.43087142e-01, 7.12171800e-01, 1.57260526e-05,\n",
       "       9.49722396e-01, 1.00000010e-07, 9.99999127e-01, 9.99999937e-01,\n",
       "       9.99999293e-01, 1.97338819e-06, 9.99999218e-01, 8.79256001e-01,\n",
       "       6.75336939e-01, 4.38750995e-07, 1.00000000e+00, 1.00000000e+00,\n",
       "       1.00000010e-07, 9.99999989e-01, 9.99999849e-01, 3.25833014e-07,\n",
       "       8.40133338e-01, 9.93784565e-01, 6.44342613e-04, 1.00000010e-07,\n",
       "       9.99999991e-01, 1.00000010e-07, 9.80804798e-01, 1.00000010e-07,\n",
       "       9.99999173e-01, 9.99995509e-01, 9.99995608e-01, 9.99999959e-01,\n",
       "       1.00000010e-07, 1.00000010e-07, 2.11916832e-07, 1.00000000e+00,\n",
       "       1.00000010e-07, 9.99999994e-01, 9.99999016e-01, 3.19191921e-07,\n",
       "       3.53629135e-07, 9.99999996e-01, 6.43802015e-07, 9.99997567e-01,\n",
       "       1.24948310e-03, 9.99999756e-01, 7.89186227e-05, 9.95965045e-01,\n",
       "       1.52023661e-07, 9.95258928e-01, 2.92020790e-07, 1.78685282e-07,\n",
       "       2.21494530e-06, 4.18573289e-07, 2.47561401e-07, 8.18767930e-06,\n",
       "       1.27658678e-07, 6.87294541e-07, 1.00000010e-07, 1.00000000e+00,\n",
       "       8.79567776e-07, 1.00000010e-07, 1.00000010e-07, 9.99999975e-01,\n",
       "       9.99999709e-01, 9.99987960e-01, 9.81035397e-01, 5.91471307e-07,\n",
       "       9.99998891e-01, 9.91628068e-01, 1.00000010e-07, 9.95901863e-01,\n",
       "       9.99998229e-01, 9.97437806e-01, 4.90653848e-06, 1.03063903e-07,\n",
       "       1.87023727e-05, 3.66277528e-06, 9.99999178e-01, 3.18325674e-06,\n",
       "       9.99998715e-01, 3.92596412e-06, 9.99991983e-01, 9.93548354e-01,\n",
       "       1.00000010e-07, 4.75301909e-03, 2.22690400e-01, 1.00000010e-07,\n",
       "       1.00000010e-07, 9.99999768e-01, 4.49841265e-06, 1.61029102e-04,\n",
       "       6.01793536e-01, 6.58218309e-07, 9.97436694e-01, 9.99984847e-01,\n",
       "       3.43110611e-06, 1.00000010e-07, 9.99999919e-01, 1.00000010e-07,\n",
       "       9.92303208e-01, 8.10569906e-01, 1.15666832e-07, 4.13130208e-05,\n",
       "       7.87234045e-01, 3.58680434e-06, 9.99993769e-01, 7.11988329e-06,\n",
       "       9.99999740e-01, 6.07891858e-06, 1.00000010e-07, 9.99999610e-01,\n",
       "       9.49774564e-01, 8.62103969e-01, 9.99999890e-01, 1.00000000e+00,\n",
       "       1.00000010e-07, 1.00000010e-07, 6.48591712e-05, 9.88825995e-01,\n",
       "       3.43652338e-07, 9.99999273e-01, 2.99012813e-07, 2.79773292e-06,\n",
       "       9.99999778e-01, 1.00000010e-07, 9.95080119e-01, 1.18777479e-07,\n",
       "       1.00000010e-07, 3.01461139e-07, 1.10786631e-02, 1.67846866e-06,\n",
       "       9.53225532e-01, 1.44863775e-02, 9.99999926e-01, 9.99999998e-01,\n",
       "       1.00000010e-07, 9.99999997e-01, 2.88915736e-01, 2.05208793e-06,\n",
       "       9.85542601e-01, 1.00000010e-07, 9.99999996e-01, 7.65052131e-01,\n",
       "       3.80172259e-04, 9.96159790e-01, 1.00000010e-07])"
      ]
     },
     "execution_count": 25,
     "metadata": {},
     "output_type": "execute_result"
    }
   ],
   "source": [
    "probs = probs[:,1] #reshape\n",
    "probs"
   ]
  },
  {
   "cell_type": "code",
   "execution_count": 26,
   "metadata": {},
   "outputs": [
    {
     "name": "stdout",
     "output_type": "stream",
     "text": [
      "AUC:1.00\n"
     ]
    }
   ],
   "source": [
    "auc = roc_auc_score(y_test,probs)\n",
    "print('AUC:%.2f'%auc)"
   ]
  },
  {
   "cell_type": "code",
   "execution_count": 27,
   "metadata": {},
   "outputs": [
    {
     "data": {
      "image/png": "[encoded data removed]",
      "text/plain": [
       "<Figure size 432x288 with 1 Axes>"
      ]
     },
     "metadata": {
      "needs_background": "light"
     },
     "output_type": "display_data"
    }
   ],
   "source": [
    "fpr,tpr,thresholds = roc_curve(y_test, probs)\n",
    "plot_roc_curve(fpr,tpr)"
   ]
  },
  {
   "cell_type": "code",
   "execution_count": null,
   "metadata": {},
   "outputs": [],
   "source": []
  }
 ],
 "metadata": {
  "kernelspec": {
   "display_name": "Python 3",
   "language": "python",
   "name": "python3"
  },
  "language_info": {
   "codemirror_mode": {
    "name": "ipython",
    "version": 3
   },
   "file_extension": ".py",
   "mimetype": "text/x-python",
   "name": "python",
   "nbconvert_exporter": "python",
   "pygments_lexer": "ipython3",
   "version": "3.7.1"
  }
 },
 "nbformat": 4,
 "nbformat_minor": 2
}
